{
 "cells": [
  {
   "cell_type": "code",
   "execution_count": null,
   "metadata": {},
   "outputs": [],
   "source": [
    "# For the check that indeed the pipeline works!\n",
    "import os\n",
    "# ────────────────────────────────────────────────\n",
    "import env_config\n",
    "# ────────────────────────────────────────────────\n",
    "\n",
    "import numpy as np\n",
    "import matplotlib.pyplot as plt\n",
    "\n",
    "# your style module\n",
    "import thesis_plot_style as tps\n",
    "\n",
    "# your sim-binning pipeline\n",
    "from binner_sims import binner_sims\n",
    "import parfiles.noNoise.parfile as par\n",
    "\n",
    "# ────────────────────────────────────────────────\n",
    "# Settings\n",
    "bin_type = \"agr2\"\n",
    "nsims    = 240\n",
    "# ────────────────────────────────────────────────\n",
    "\n",
    "def get_noiseless_sims(par, bin_type):\n",
    "    b = binner_sims('p', 'p', par, bin_type)\n",
    "    sims = b.get_sims_bandpowers() - b.get_mcn0() - b.get_n1()\n",
    "    return b.bin_lavs, sims\n",
    "\n",
    "# compute fiducial + sims\n",
    "b0        = binner_sims('p', 'p', par, bin_type)\n",
    "ell, fid  = b0.bin_lavs, b0.fid_bandpowers\n",
    "ell_sim, sims = get_noiseless_sims(par, bin_type)\n",
    "\n",
    "# ────────────────────────────────────────────────\n",
    "with tps.context_two_panel(filename=\"fig_dual.png\", heights=(2/3,1/3), hspace=0) as (fig, (ax1, ax2)):    \n",
    "    # immediately zero‐out the gutter\n",
    "\n",
    "    # top: power spectrum\n",
    "    ax1.plot(ell, fid, 'k--', lw=1.6, label=r\"Fiducial $C_\\ell^{\\phi\\phi}$\")\n",
    "    ax1.plot(ell_sim, sims,\n",
    "             color=tps.CB_PALETTE[0], lw=1.6,\n",
    "             label=f\"{nsims} noiseless sims\")\n",
    "    ax1.set_ylabel(r\"$C_\\ell^{\\phi\\phi}$\")\n",
    "    ax1.legend(loc=\"upper right\")\n",
    "    ax1.set_title(\"Lensing Power Spectrum & Residuals\")\n",
    "\n",
    "    # bottom: fractional difference\n",
    "    frac = (sims - fid) / fid\n",
    "    ax2.plot(ell, frac, color=tps.CB_PALETTE[1], lw=1.6)\n",
    "    ax2.axhline(0, color=\"gray\", lw=0.8, ls=\"--\")\n",
    "    # Draw shaded ±1% band\n",
    "    ax2.fill_between(\n",
    "        [0, 1200],\n",
    "        0.01, -0.01,\n",
    "        color=\"gray\",\n",
    "        alpha=0.2,\n",
    "        zorder=0,\n",
    "        label=r\"±1\\%\"\n",
    "    )\n",
    "    ax2.set_xlabel(r\"$\\ell$\")\n",
    "    ax2.set_ylabel(r\"$\\Delta C_\\ell / C_\\ell^{\\phi\\phi}$\")\n",
    "    ax2.set_xlim([0,1200])\n"
   ]
  },
  {
   "cell_type": "code",
   "execution_count": null,
   "metadata": {},
   "outputs": [
    {
     "name": "stdout",
     "output_type": "stream",
     "text": [
      "Using lenspyx alm2map\n",
      "Binner sims, calculating SIGMA...\n"
     ]
    },
    {
     "name": "stderr",
     "output_type": "stream",
     "text": [
      "100%|██████████| 240/240 [00:00<00:00, 284.60it/s]\n"
     ]
    },
    {
     "name": "stdout",
     "output_type": "stream",
     "text": [
      "Binner sims, calculating SIGMA...\n"
     ]
    },
    {
     "name": "stderr",
     "output_type": "stream",
     "text": [
      "100%|██████████| 240/240 [00:02<00:00, 89.51it/s]\n"
     ]
    },
    {
     "name": "stdout",
     "output_type": "stream",
     "text": [
      "Binner sims, calculating SIGMA...\n"
     ]
    },
    {
     "name": "stderr",
     "output_type": "stream",
     "text": [
      "100%|██████████| 240/240 [00:02<00:00, 110.90it/s]\n"
     ]
    },
    {
     "name": "stdout",
     "output_type": "stream",
     "text": [
      "Binner sims, calculating SIGMA...\n"
     ]
    },
    {
     "name": "stderr",
     "output_type": "stream",
     "text": [
      "100%|██████████| 240/240 [00:02<00:00, 88.85it/s]\n"
     ]
    },
    {
     "name": "stdout",
     "output_type": "stream",
     "text": [
      "Binner sims, calculating SIGMA...\n"
     ]
    },
    {
     "name": "stderr",
     "output_type": "stream",
     "text": [
      "100%|██████████| 240/240 [00:02<00:00, 91.50it/s]\n"
     ]
    },
    {
     "name": "stdout",
     "output_type": "stream",
     "text": [
      "Binner sims, calculating SIGMA...\n"
     ]
    },
    {
     "name": "stderr",
     "output_type": "stream",
     "text": [
      "100%|██████████| 240/240 [00:02<00:00, 85.66it/s]\n"
     ]
    },
    {
     "name": "stdout",
     "output_type": "stream",
     "text": [
      "Binner sims, calculating SIGMA...\n"
     ]
    },
    {
     "name": "stderr",
     "output_type": "stream",
     "text": [
      "100%|██████████| 240/240 [00:02<00:00, 83.36it/s]\n"
     ]
    },
    {
     "name": "stdout",
     "output_type": "stream",
     "text": [
      "Binner sims, calculating SIGMA...\n"
     ]
    },
    {
     "name": "stderr",
     "output_type": "stream",
     "text": [
      "100%|██████████| 240/240 [00:02<00:00, 80.11it/s]\n"
     ]
    }
   ],
   "source": [
    "#!/usr/bin/env python3\n",
    "import os\n",
    "# ─── environment setup ─────────────────────────────────────────────\n",
    "import env_config\n",
    "# ────────────────────────────────────────────────────────────────────\n",
    "\n",
    "import numpy as np\n",
    "import matplotlib.pyplot as plt\n",
    "from binner_sims import binner_sims\n",
    "import thesis_plot_style as tps\n",
    "\n",
    "# parameter files\n",
    "import parfiles.noNoise.parfile            as par_nn\n",
    "import parfiles.noNoise.parfile_delensed   as par_nn_del\n",
    "import parfiles.noNoise.parfile_delensed_qest    as par_nn_qest\n",
    "import parfiles.noNoise.parfile_delensed_PolQEST as par_nn_polq\n",
    "\n",
    "import parfiles.Noise.parfile            as par_n\n",
    "import parfiles.Noise.parfile_delensed   as par_n_del\n",
    "import parfiles.Noise.parfile_delensed_qest    as par_n_qest\n",
    "import parfiles.Noise.parfile_delensed_PolQEST as par_n_polq\n",
    "\n",
    "# common settings\n",
    "bin_type = \"fullA_20\"\n",
    "scenarios = [\n",
    "    (par_nn,    \"MV: lensed\",                  'p'),\n",
    "    (par_nn_del,r\"MV: delensed with input $\\kappa_{LM}$\", 'p'),\n",
    "    (par_nn_qest, \"MV: internally delensed with MV-QEST\", 'p'),\n",
    "    (par_nn_polq, \"TT: internally delensed with Pol-QEST\", 'ptt'),\n",
    "]\n",
    "noisy_scenarios = [\n",
    "    (par_n,      \"MV: lensed\",                  'p'),\n",
    "    (par_n_del,  r\"MV: delensed with input $\\kappa_{LM}$\", 'p'),\n",
    "    (par_n_qest,\"MV: internally delensed with MV-QEST\", 'p'),\n",
    "    (par_n_polq,\"TT: internally delensed with Pol-QEST\", 'ptt'),\n",
    "]\n",
    "\n",
    "# apply thesis style\n",
    "tps.apply_style(\"single\")\n",
    "\n",
    "# precompute bin boundaries & centers for visual guides\n",
    "bins_l = np.array([8, 21, 40, 66, 101, 145, 199, 264, 339, 426, 526, 638, 763, 902])\n",
    "bins_u = np.array([20, 39, 65, 100, 144, 198, 263, 338, 425, 525, 637, 762, 901, 2048])\n",
    "bin_centers   = 0.5 * (bins_l + bins_u)\n",
    "bin_halfwidth = 0.5 * (bins_u - bins_l)\n",
    "\n",
    "# ─── Noiseless figure ────────────────────────────────────────\n",
    "with tps.context_figure(filename=\"fig_clpp_noiseless.png\") as (fig, ax):\n",
    "    # fiducial (no error bars)\n",
    "    b0 = binner_sims('p','p', par_nn, bin_type)\n",
    "    ell = b0.bin_lavs\n",
    "    ax.plot(ell, b0.fid_bandpowers,\n",
    "            'k--', label=\"fiducial\", lw=1.6)\n",
    "\n",
    "    # lightly shade the bins\n",
    "    # for l,u in zip(bins_l, bins_u):\n",
    "    #     ax.axvspan(l, u, color=\"gray\", alpha=0.05, zorder=0)\n",
    "\n",
    "    # Monte Carlo scenarios with error bars\n",
    "    for ci, (pf, label, kPhi) in enumerate(scenarios):\n",
    "        b = binner_sims(kPhi, kPhi, pf, bin_type)\n",
    "\n",
    "        # get mean and 1σ-on-the-mean\n",
    "        bp_mean, bp_err = b.get_sims_bandpowers_with_error()\n",
    "        # subtract biases\n",
    "        bp_mean -= (b.get_mcn0() + b.get_n1())\n",
    "\n",
    "        # plot with errorbars\n",
    "        color = tps.CB_PALETTE[ci+2]\n",
    "        ax.errorbar(ell, bp_mean,\n",
    "                    yerr=bp_err,\n",
    "                    fmt='o-', lw=1.6, capsize=3,\n",
    "                    markersize=4.5,\n",
    "                    color=color,\n",
    "                    label=label)\n",
    "\n",
    "    ax.axhline(0, color=\"gray\", lw=0.8, ls=\"--\")\n",
    "    ax.set(xlabel=r\"$\\ell$\",\n",
    "           ylabel=r\"$C_\\ell^{\\phi\\phi}$\",\n",
    "           title=\"Noiseless $C_\\ell^{\\phi\\phi}$ Estimates\")\n",
    "    # ax.set_xlim([0, ell[-1]])\n",
    "    ax.set_xlim([0,400])\n",
    "    ax.legend(loc=\"upper right\")\n",
    "\n",
    "# ─── Noisy figure ────────────────────────────────────────────\n",
    "with tps.context_figure(filename=\"fig_clpp_noisy.png\") as (fig, ax):\n",
    "    # fiducial + calibration\n",
    "    b0 = binner_sims('p','p', par_n, bin_type)\n",
    "    ell = b0.bin_lavs\n",
    "    fid = b0.fid_bandpowers\n",
    "    sims_raw = b0.get_sims_bandpowers() - b0.get_mcn0() - b0.get_n1()\n",
    "    calib = fid / sims_raw  # vector of per-bin calibration\n",
    "\n",
    "    ax.plot(ell, fid, 'k--', label=\"fiducial\")\n",
    "    # for l,u in zip(bins_l, bins_u):\n",
    "    #     ax.axvspan(l, u, color=\"gray\", alpha=0.05, zorder=0)\n",
    "\n",
    "    # Monte Carlo scenarios with error bars, scaled by calib\n",
    "    for ci, (pf, label, kPhi) in enumerate(noisy_scenarios):\n",
    "        b = binner_sims(kPhi, kPhi, pf, bin_type)\n",
    "\n",
    "        bp_mean, bp_err = b.get_sims_bandpowers_with_error()\n",
    "        bp_mean -= (b.get_mcn0() + b.get_n1())\n",
    "\n",
    "        # apply the same calibration factor to mean AND error\n",
    "        bp_mean *= calib\n",
    "        bp_err  *= calib\n",
    "\n",
    "        color = tps.CB_PALETTE[ci+2]\n",
    "        ax.errorbar(ell, bp_mean,\n",
    "                    yerr=bp_err,\n",
    "                    fmt='o-', lw=1.6, capsize=3,\n",
    "                    markersize=4.5,\n",
    "                    color=color,\n",
    "                    label=label)\n",
    "\n",
    "    ax.axhline(0, color=\"gray\", lw=0.8, ls=\"--\")\n",
    "    ax.set(xlabel=r\"$\\ell$\",\n",
    "           ylabel=r\"$C_\\ell^{\\phi\\phi}$\",\n",
    "           title=\"Noisy $C_\\ell^{\\phi\\phi}$ Estimates\")\n",
    "    # ax.set_xlim([0, ell[-1]])\n",
    "    ax.set_xlim([0,400])\n",
    "    ax.legend(loc=\"upper right\")\n"
   ]
  },
  {
   "cell_type": "code",
   "execution_count": 13,
   "metadata": {},
   "outputs": [
    {
     "name": "stderr",
     "output_type": "stream",
     "text": [
      "/home/gilles/thesis/notebooks/thesis_plot_style.py:94: UserWarning: This figure includes Axes that are not compatible with tight_layout, so results might be incorrect.\n",
      "  fig.tight_layout()\n"
     ]
    }
   ],
   "source": [
    "#!/usr/bin/env python3\n",
    "import os\n",
    "# ─── environment setup ─────────────────────────────────────────────\n",
    "os.environ['PLENS'] = \"/mnt/d/THESIS/PLENS\"\n",
    "os.environ['INPUT'] = \"/mnt/d/THESIS/SIMS\"\n",
    "os.chdir(\"/home/gilles/thesis/notebooks\")\n",
    "# ────────────────────────────────────────────────────────────────────\n",
    "\n",
    "import numpy as np\n",
    "import matplotlib.pyplot as plt\n",
    "from binner_sims import binner_sims\n",
    "import thesis_plot_style as tps\n",
    "\n",
    "# Import all parameter files to compare\n",
    "import parfiles.noNoise.parfile              as par_nn_lensed\n",
    "import parfiles.noNoise.parfile_delensed     as par_nn_del\n",
    "import parfiles.noNoise.parfile_delensed_qest as par_nn_qest\n",
    "import parfiles.noNoise.parfile_delensed_PolQEST as par_nn_polq\n",
    "\n",
    "cmp = tps.CB_PALETTE\n",
    "\n",
    "# Define scenarios: (parfile, estimator_key, label, style)\n",
    "scenarios = [\n",
    "    (par_nn_lensed, 'p',    \"Lensed\",                           {'linestyle':'-',  'color':cmp[2]}),\n",
    "    (par_nn_del,     'p',    r\"Delensed $\\kappa_{LM}$\", {'linestyle':'--','color':cmp[3]}),\n",
    "    (par_nn_qest,    'p',    \"Delensed MV-QE\", {'linestyle':'-.','color':cmp[4]}),\n",
    "    (par_nn_polq,    'ptt',  \"Delensed Pol-QE\", {'linestyle':':', 'color':cmp[5]}),\n",
    "]\n",
    "\n",
    "# Use agr2 grid for unbinned ℓ-values\n",
    "grid_btype = \"agr2\"\n",
    "\n",
    "# Create two-panel figure\n",
    "tps.apply_style(\"single\")\n",
    "with tps.context_two_panel(filename=\"fig_phi_all_n0_unbinned.png\", heights=(2/3,2/3), hspace=0.02) as (fig, (ax1, ax2)):\n",
    "    # Upper: uncorrected phi estimates\n",
    "    for parfile, key, label, style in scenarios:\n",
    "        b = binner_sims(key, key, parfile, btype=grid_btype)\n",
    "        ell    = b.bin_lavs\n",
    "        phi_uc = b.get_sims_bandpowers()   # uncorrected <ϕϕ>\n",
    "        ax1.plot(ell, phi_uc,\n",
    "                 label=label,\n",
    "                 lw=1.6,\n",
    "                 **style)\n",
    "\n",
    "    ax1.set_ylabel(r\"$C_\\ell^{\\hat\\phi\\hat\\phi}$\")\n",
    "    ax1.set_xlim([ell.min(), ell.max()])\n",
    "    ax1.axhline(0, color=\"gray\", lw=0.8, ls=\"--\")\n",
    "    ax1.set_title(\"Uncorrected QE Output (top) & N0 bias (lower)\")\n",
    "    ax1.legend(loc=\"upper left\", fontsize=10)\n",
    "\n",
    "    # Lower: N0 biases\n",
    "    for parfile, key, label, style in scenarios:\n",
    "        b = binner_sims(key, key, parfile, btype=grid_btype)\n",
    "        ell = b.bin_lavs\n",
    "        n0  = b.get_mcn0()               # N0 bias\n",
    "        ax2.plot(ell, n0,\n",
    "                 label=label,\n",
    "                 lw=1.6,\n",
    "                 **style)\n",
    "\n",
    "    ax2.set_xlabel(r\"$\\ell$\")\n",
    "    ax2.set_ylabel(r\"$N_\\ell^{(0)}$\")\n",
    "    ax2.set_xlim([ell.min(), ell.max()])\n",
    "    ax2.axhline(0, color=\"gray\", lw=0.8, ls=\"--\")\n",
    "    # ax2.set_title(\"N0 Bias\")\n",
    "    # ax2.legend(loc=\"upper right\")\n",
    "\n",
    "# Display the figure\n",
    "# plt.show()\n",
    "\n"
   ]
  },
  {
   "cell_type": "code",
   "execution_count": null,
   "metadata": {},
   "outputs": [
    {
     "name": "stdout",
     "output_type": "stream",
     "text": [
      "Using lenspyx alm2map\n"
     ]
    }
   ],
   "source": [
    "# Plotting all the cl_pp spectra\n",
    "import os\n",
    "# ─── your existing environment setup ────────────────────────\n",
    "import env_config\n",
    "# ─────────────────────────────────────────────────────────────\n",
    "\n",
    "import numpy as np\n",
    "from binner_sims import binner_sims\n",
    "import thesis_plot_style as tps\n",
    "\n",
    "# your parameter files\n",
    "import parfiles.noNoise.parfile            as par_nn\n",
    "import parfiles.noNoise.parfile_delensed   as par_nn_del\n",
    "import parfiles.noNoise.parfile_delensed_qest    as par_nn_qest\n",
    "import parfiles.noNoise.parfile_delensed_PolQEST as par_nn_polq\n",
    "\n",
    "import parfiles.Noise.parfile            as par_n\n",
    "import parfiles.Noise.parfile_delensed   as par_n_del\n",
    "import parfiles.Noise.parfile_delensed_qest    as par_n_qest\n",
    "import parfiles.Noise.parfile_delensed_PolQEST as par_n_polq\n",
    "\n",
    "# common settings\n",
    "bin_type = \"agr2\"\n",
    "scenarios = [\n",
    "    (par_nn,    \"MV: lensed\",                  'p'),\n",
    "    (par_nn_del,\"MV: delensed with input KLM\", 'p'),\n",
    "    (par_nn_qest, \"MV: internally delensed with MV-QEST\", 'p'),\n",
    "    (par_nn_polq, \"TT: internally delensed with Pol-QEST\", 'ptt'),\n",
    "]\n",
    "noisy_scenarios = [\n",
    "    (par_n,      \"MV: lensed\",                  'p'),\n",
    "    (par_n_del,  \"MV: delensed with input KLM\", 'p'),\n",
    "    (par_n_qest,\"MV: internally delensed with MV-QEST\", 'p'),\n",
    "    (par_n_polq,\"TT: internally delensed with Pol-QEST\", 'ptt'),\n",
    "]\n",
    "\n",
    "# apply thesis style\n",
    "tps.apply_style(\"single\")\n",
    "\n",
    "# ─── Noiseless figure ────────────────────────────────────────\n",
    "with tps.context_figure(filename=\"fig_clpp_noiseless.png\") as (fig, ax):\n",
    "    # fiducial\n",
    "    b0 = binner_sims('p','p', par_nn, bin_type)\n",
    "    ell = b0.bin_lavs\n",
    "    ax.plot(ell, b0.fid_bandpowers, 'k--', label=\"fiducial\", lw=1.6)\n",
    "    # Inside your figure block, after computing bin edges:\n",
    "    bins_l = np.array([8, 21, 40, 66, 101, 145, 199, 264, 339, 426, 526, 638, 763, 902])\n",
    "    bins_u = np.array([20, 39, 65, 100, 144, 198, 263, 338, 425, 525, 637, 762, 901, 2048])\n",
    "    bin_centers = 0.5 * (bins_l + bins_u)\n",
    "    bin_halfwidths = 0.5 * (bins_u - bins_l)\n",
    "\n",
    "    for l, u in zip(bins_l, bins_u):\n",
    "        ax.axvspan(l, u, color=\"gray\", alpha=0.05, zorder=0)\n",
    "\n",
    "    # each scenario\n",
    "    cbp = 0\n",
    "    for pf, label, kPhi in scenarios:\n",
    "        b = binner_sims(kPhi, kPhi, pf, bin_type)\n",
    "        sims_bp = b.get_sims_bandpowers() - b.get_mcn0() - b.get_n1()\n",
    "        ax.plot(ell, sims_bp, lw=1.6, label=label, color=tps.CB_PALETTE[cbp])\n",
    "        cbp+=1\n",
    "\n",
    "    ax.axhline(0, color=\"gray\", lw=0.8, ls=\"--\")\n",
    "    ax.set(\n",
    "        xlabel=r\"$\\ell$\",\n",
    "        ylabel=r\"$C_\\ell^{\\phi\\phi}$\",\n",
    "        title=\"Noiseless $C_\\ell^{\\phi\\phi}$ Estimates\",\n",
    "    )\n",
    "    ax.legend(loc=\"upper right\")\n",
    "    ax.set_xlim([0, b0.bin_lavs[-1]])\n",
    "    # ax.set_yscale(\"log\")\n",
    "\n",
    "# ─── Noisy figure ────────────────────────────────────────────\n",
    "with tps.context_figure(filename=\"fig_clpp_noisy.png\") as (fig, ax):\n",
    "    # fiducial + calibration factor\n",
    "    b0 = binner_sims('p','p', par_n, bin_type)\n",
    "    ell = b0.bin_lavs\n",
    "    fid = b0.fid_bandpowers\n",
    "    sims_raw = b0.get_sims_bandpowers() - b0.get_mcn0() - b0.get_n1()\n",
    "    calib = fid / sims_raw\n",
    "\n",
    "    ax.plot(ell, fid, 'k--', label=\"fiducial\")\n",
    "\n",
    "    for l, u in zip(bins_l, bins_u):\n",
    "        ax.axvspan(l, u, color=\"gray\", alpha=0.05, zorder=0)\n",
    "\n",
    "    # each noisy scenario\n",
    "    for pf, label, kPhi in noisy_scenarios:\n",
    "        b = binner_sims(kPhi, kPhi, pf, bin_type)\n",
    "        sims_bp = (b.get_sims_bandpowers() - b.get_mcn0() - b.get_n1()) * calib\n",
    "        ax.plot(ell, sims_bp, lw=1.6, label=label)\n",
    "    ax.axhline(0, color=\"gray\", lw=0.8, ls=\"--\")\n",
    "    ax.set(\n",
    "        xlabel=r\"$\\ell$\",\n",
    "        ylabel=r\"$C_\\ell^{\\phi\\phi}$\",\n",
    "        title=\"Noisy $C_\\ell^{\\phi\\phi}$ Estimates\",\n",
    "    )\n",
    "    ax.legend(loc=\"upper right\")\n",
    "    ax.set_xlim([0, b0.bin_lavs[-1]])\n",
    "    # ax.set_yscale(\"log\")\n"
   ]
  },
  {
   "cell_type": "code",
   "execution_count": null,
   "metadata": {},
   "outputs": [
    {
     "name": "stdout",
     "output_type": "stream",
     "text": [
      "Binner sims, calculating SIGMA...\n"
     ]
    },
    {
     "name": "stderr",
     "output_type": "stream",
     "text": [
      "100%|██████████| 240/240 [00:07<00:00, 31.83it/s]\n"
     ]
    },
    {
     "name": "stdout",
     "output_type": "stream",
     "text": [
      "Binner sims, calculating SIGMA...\n"
     ]
    },
    {
     "name": "stderr",
     "output_type": "stream",
     "text": [
      "100%|██████████| 240/240 [00:10<00:00, 22.34it/s]\n"
     ]
    },
    {
     "name": "stdout",
     "output_type": "stream",
     "text": [
      "Binner sims, calculating SIGMA...\n"
     ]
    },
    {
     "name": "stderr",
     "output_type": "stream",
     "text": [
      "100%|██████████| 240/240 [00:09<00:00, 24.34it/s]\n"
     ]
    },
    {
     "name": "stdout",
     "output_type": "stream",
     "text": [
      "Binner sims, calculating SIGMA...\n"
     ]
    },
    {
     "name": "stderr",
     "output_type": "stream",
     "text": [
      "100%|██████████| 240/240 [00:11<00:00, 21.80it/s]\n"
     ]
    }
   ],
   "source": [
    "#!/usr/bin/env python3\n",
    "import os\n",
    "# ─── environment setup ─────────────────────────────────────────────\n",
    "import env_config\n",
    "# ────────────────────────────────────────────────────────────────────\n",
    "\n",
    "import numpy as np\n",
    "import matplotlib.pyplot as plt\n",
    "from binner_sims import binner_sims\n",
    "import thesis_plot_style as tps\n",
    "\n",
    "# parameter‐file aliases\n",
    "import parfiles.noNoise.parfile                        as par_nn\n",
    "import parfiles.noNoise.parfile_delensed_PolQEST       as par_nn_polq\n",
    "import parfiles.Noise.parfile                  as par_n\n",
    "import parfiles.Noise.parfile_delensed_PolQEST as par_n_polq\n",
    "\n",
    "# common settings\n",
    "bin_type = \"fullA_10\"\n",
    "ests_wf  = (\"p_p\", \"p_p\")    # Pol‐QE for Wiener filter\n",
    "ests_MV  = (\"p\",   \"p\")      # MV‐QE for lensing baseline\n",
    "ests_TT  = (\"ptt\", \"ptt\")    # TT‐QE for delensed spectrum\n",
    "\n",
    "# compute both cases\n",
    "cases = {\n",
    "    \"Noiseless\": (par_nn,   par_nn_polq),\n",
    "    \"Noisy\":     (par_n,    par_n_polq),\n",
    "}\n",
    "\n",
    "results = {}\n",
    "for label, (par_base, par_del) in cases.items():\n",
    "    # Wiener filter (no error bars)\n",
    "    bw = binner_sims(*ests_wf, par_base, bin_type)\n",
    "    ell = bw.bin_lavs\n",
    "    W   = bw.get_WF()\n",
    "    \n",
    "\n",
    "    # ----------------------------------------------------------------\n",
    "    # 1) MV QE lensing bandpowers + error\n",
    "    bl = binner_sims(*ests_MV, par_base, bin_type)\n",
    "    C_len, C_len_err = bl.get_sims_bandpowers_with_error()  \n",
    "\n",
    "    # subtract biases (no error on biases here)\n",
    "    C_len -= bl.get_mcn0() + bl.get_n1()\n",
    "\n",
    "    # 2) TT-QE delensed bandpowers + error\n",
    "    bd = binner_sims(*ests_TT, par_del, bin_type)\n",
    "    C_del, C_del_err = bd.get_sims_bandpowers_with_error()\n",
    "\n",
    "    C_del -= bd.get_mcn0() + bd.get_n1()\n",
    "\n",
    "    # 3) Efficiency + its propagated 1σ\n",
    "    eff_mean = 1.0 - (C_del / C_len)\n",
    "    eff_err  = np.sqrt(\n",
    "        (C_del_err / C_len)**2 +\n",
    "        (C_del * C_len_err / C_len**2)**2\n",
    "    )\n",
    "\n",
    "    results[label] = (ell, W, eff_mean, eff_err)\n",
    "\n",
    "# plot them all together\n",
    "tps.apply_style(\"single\")\n",
    "with tps.context_figure(filename=\"fig_wf_vs_eff_combined.png\") as (fig, ax):\n",
    "    ax.axvspan(25, 35, color=\"gray\", alpha=0.2, zorder=0)\n",
    "\n",
    "    for i, (label, (ell, W, eff, err)) in enumerate(results.items()):\n",
    "        cmap = tps.CB_PALETTE\n",
    "\n",
    "        # plot Wiener filter as before\n",
    "        ax.plot(np.arange(len(W)), W,\n",
    "                color=cmap[2 + 2*i], lw=1.6,\n",
    "                label=f\"Wiener $W_\\\\ell$ ({label})\")\n",
    "\n",
    "        # plot efficiency with error bars\n",
    "        ax.errorbar(ell, eff, yerr=err,\n",
    "                    fmt='o', ls='--', lw=1.2, capsize=3,\n",
    "                    color=cmap[3 + 2*i],\n",
    "                    label=f\"Eff.~$1 - C_\\\\ell^{{\\\\rm del}}/C_\\\\ell^{{\\\\rm len}}$ ({label})\")\n",
    "\n",
    "\n",
    "    ax.hlines(0, 0,300,'grey', '--', alpha=0.3)\n",
    "    ax.set_xlim(0, 300)\n",
    "    ax.set_xlabel(r\"$\\ell$\")\n",
    "    ax.set_ylabel(\"Dimensionless\")\n",
    "    ax.set_ylim([-.1, 0.6])\n",
    "    ax.set_title(\"Pol-QE Wiener Filter vs Delensing Efficiency\\n(Noiseless & Noisy)\")\n",
    "    ax.legend(loc=\"upper right\", frameon=False)\n"
   ]
  }
 ],
 "metadata": {
  "kernelspec": {
   "display_name": ".venv",
   "language": "python",
   "name": "python3"
  },
  "language_info": {
   "codemirror_mode": {
    "name": "ipython",
    "version": 3
   },
   "file_extension": ".py",
   "mimetype": "text/x-python",
   "name": "python",
   "nbconvert_exporter": "python",
   "pygments_lexer": "ipython3",
   "version": "3.10.15"
  }
 },
 "nbformat": 4,
 "nbformat_minor": 2
}
